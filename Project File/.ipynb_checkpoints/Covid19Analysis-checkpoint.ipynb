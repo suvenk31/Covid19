{
 "cells": [
  {
   "cell_type": "code",
   "execution_count": 90,
   "metadata": {},
   "outputs": [],
   "source": [
    "import pandas as pd"
   ]
  },
  {
   "cell_type": "code",
   "execution_count": 91,
   "metadata": {},
   "outputs": [],
   "source": [
    "demographics = pd.read_csv('C:\\\\Users\\\\chias\\\\Desktop\\\\legal and general\\\\All Files\\\\DATABANK_DEMOGRAPHICS.csv')"
   ]
  },
  {
   "cell_type": "code",
   "execution_count": 92,
   "metadata": {},
   "outputs": [],
   "source": [
    "demographics = demographics[['ISO3166_1','COUNTRY_REGION']]"
   ]
  },
  {
   "cell_type": "code",
   "execution_count": 93,
   "metadata": {},
   "outputs": [],
   "source": [
    "demographics = demographics.rename(columns={\"COUNTRY_REGION\": \"Country\", 'ISO3166_1': \"Country_cd\"})"
   ]
  },
  {
   "cell_type": "code",
   "execution_count": 94,
   "metadata": {},
   "outputs": [],
   "source": [
    "continent = pd.read_csv('C:\\\\Users\\\\chias\\\\Desktop\\\\legal and general\\\\All Files\\\\ECDC_GLOBAL.csv')"
   ]
  },
  {
   "cell_type": "code",
   "execution_count": 95,
   "metadata": {},
   "outputs": [],
   "source": [
    " continent = continent[['COUNTRY_REGION','CONTINENTEXP']]"
   ]
  },
  {
   "cell_type": "code",
   "execution_count": 96,
   "metadata": {},
   "outputs": [],
   "source": [
    "continent =continent.drop_duplicates()"
   ]
  },
  {
   "cell_type": "code",
   "execution_count": 97,
   "metadata": {},
   "outputs": [],
   "source": [
    "continent = continent.rename(columns={\"COUNTRY_REGION\": \"Country\", 'CONTINENTEXP': \"Continent\"})"
   ]
  },
  {
   "cell_type": "code",
   "execution_count": 98,
   "metadata": {},
   "outputs": [],
   "source": [
    "region = pd.read_csv('C:\\\\Users\\\\chias\\\\Desktop\\\\legal and general\\\\All Files\\\\HDX_ACAPS.csv', encoding =\"ISO-8859-1\")"
   ]
  },
  {
   "cell_type": "code",
   "execution_count": 99,
   "metadata": {},
   "outputs": [],
   "source": [
    "region = region[['COUNTRY_STATE','REGION']]"
   ]
  },
  {
   "cell_type": "code",
   "execution_count": 100,
   "metadata": {},
   "outputs": [],
   "source": [
    "region = region.drop_duplicates()"
   ]
  },
  {
   "cell_type": "code",
   "execution_count": 101,
   "metadata": {},
   "outputs": [],
   "source": [
    "region = region.rename(columns={\"COUNTRY_STATE\": \"Country\", 'REGION': \"Region\"})"
   ]
  },
  {
   "cell_type": "code",
   "execution_count": 102,
   "metadata": {},
   "outputs": [],
   "source": [
    "Country = pd.merge(continent,region, on ='Country')"
   ]
  },
  {
   "cell_type": "code",
   "execution_count": 103,
   "metadata": {},
   "outputs": [],
   "source": [
    "Country = pd.merge(Country,demographics,on ='Country')"
   ]
  },
  {
   "cell_type": "code",
   "execution_count": 104,
   "metadata": {},
   "outputs": [],
   "source": [
    "Country = Country.drop_duplicates()"
   ]
  },
  {
   "cell_type": "code",
   "execution_count": 105,
   "metadata": {},
   "outputs": [],
   "source": [
    "Country.to_csv('C:\\\\Users\\\\chias\\\\Desktop\\\\legal and general\\\\Country.csv', index = False)"
   ]
  },
  {
   "cell_type": "code",
   "execution_count": 106,
   "metadata": {},
   "outputs": [],
   "source": [
    "acaps = pd.read_csv('C:\\\\Users\\\\chias\\\\Desktop\\\\legal and general\\\\All Files\\\\HDX_ACAPS.csv', encoding =\"ISO-8859-1\")"
   ]
  },
  {
   "cell_type": "code",
   "execution_count": 107,
   "metadata": {},
   "outputs": [],
   "source": [
    "acaps = acaps.rename(columns={\"COUNTRY_STATE\": \"Country\", 'REGION': \"Region\"})"
   ]
  },
  {
   "cell_type": "code",
   "execution_count": 108,
   "metadata": {},
   "outputs": [],
   "source": [
    "acaps.drop(['ADMIN_2','COMMENTS','SOURCE','LINK','LAST_UPDATED_DATE'],axis=1, inplace =True)"
   ]
  },
  {
   "cell_type": "code",
   "execution_count": 109,
   "metadata": {},
   "outputs": [],
   "source": [
    "acaps.to_csv('C:\\\\Users\\\\chias\\\\Desktop\\\\legal and general\\\\acaps.csv', index = False)"
   ]
  },
  {
   "cell_type": "code",
   "execution_count": 110,
   "metadata": {},
   "outputs": [],
   "source": [
    "hdx_acaps = pd.merge(acaps,Country, on = ['Country_cd','Country','Region'])"
   ]
  },
  {
   "cell_type": "code",
   "execution_count": 111,
   "metadata": {},
   "outputs": [],
   "source": [
    "hdx_acaps.to_csv('C:\\\\Users\\\\chias\\\\Desktop\\\\legal and general\\\\hdx_acaps.csv', index = False)"
   ]
  },
  {
   "cell_type": "code",
   "execution_count": 144,
   "metadata": {},
   "outputs": [],
   "source": [
    "airline = pd.read_csv('C:\\\\Users\\\\chias\\\\Desktop\\\\legal and general\\\\All Files\\\\HUM_RESTRICTIONS_AIRLINE.csv',encoding =\"ISO-8859-1\")"
   ]
  },
  {
   "cell_type": "code",
   "execution_count": 150,
   "metadata": {},
   "outputs": [],
   "source": [
    "#airline[airline['COUNTRY']=='All Airlines']\n",
    "airline = airline.drop(airline[airline['COUNTRY']=='All Airlines'].index)"
   ]
  },
  {
   "cell_type": "code",
   "execution_count": 159,
   "metadata": {},
   "outputs": [],
   "source": [
    "airline.to_csv('C:\\\\Users\\\\chias\\\\Desktop\\\\legal and general\\\\airline.csv', index = False)"
   ]
  },
  {
   "cell_type": "code",
   "execution_count": null,
   "metadata": {},
   "outputs": [],
   "source": []
  }
 ],
 "metadata": {
  "kernelspec": {
   "display_name": "Python 3",
   "language": "python",
   "name": "python3"
  },
  "language_info": {
   "codemirror_mode": {
    "name": "ipython",
    "version": 3
   },
   "file_extension": ".py",
   "mimetype": "text/x-python",
   "name": "python",
   "nbconvert_exporter": "python",
   "pygments_lexer": "ipython3",
   "version": "3.7.6"
  }
 },
 "nbformat": 4,
 "nbformat_minor": 4
}
